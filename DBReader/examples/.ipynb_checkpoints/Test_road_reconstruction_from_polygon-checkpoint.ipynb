{
 "cells": [
  {
   "cell_type": "code",
   "execution_count": 11,
   "id": "c3af180e",
   "metadata": {},
   "outputs": [],
   "source": [
    "import matplotlib.pyplot as plt\n",
    "import pandas as pd\n",
    "import numpy as np\n",
    "import matplotlib.pyplot as plt\n",
    "from matplotlib.patches import Rectangle\n",
    "import cv2\n",
    "import sys\n",
    "import json\n",
    "import camera as cam\n",
    "from shapely.geometry import Polygon,LineString\n",
    "from shapely.validation import make_valid\n",
    "from shapely.ops import split\n",
    "from shapely.ops import unary_union"
   ]
  },
  {
   "cell_type": "code",
   "execution_count": 2,
   "id": "959f67f8",
   "metadata": {},
   "outputs": [],
   "source": [
    "# Import DBReader\n",
    "sys.path.append('/media/julien/Data1/pro/Dev/HD_Radar/HDRadar_dataset/DBReader')\n",
    "from DBReader.DBReader import SyncReader,ASyncReader\n",
    "from DBReader.SensorsReaders import CANDecoder\n",
    "offset_radar = -180000\n",
    "offset_scala = -40000\n",
    "\n",
    "root_dir = '/media/julien/HD_RADAR1/FinalDataset/Pitch0Deg/'"
   ]
  },
  {
   "cell_type": "code",
   "execution_count": 3,
   "id": "f66a7a6f",
   "metadata": {},
   "outputs": [],
   "source": [
    "folder = 'RECORD@2020-11-21_13.39.43'"
   ]
  },
  {
   "cell_type": "code",
   "execution_count": 4,
   "id": "a970164b",
   "metadata": {},
   "outputs": [
    {
     "name": "stdout",
     "output_type": "stream",
     "text": [
      "-------------------------------------------------------------------------\n",
      "- Sensors available:\n",
      "-     camera\n",
      "-     can\n",
      "-     scala\n",
      "-     radar_ch3\n",
      "-     radar_ch0\n",
      "-     radar_ch2\n",
      "-     gps\n",
      "-     radar_ch1\n",
      "-\n",
      "- You might use function \"setSensorFilters\" to select sensors you want to read!\n",
      "-------------------------------------------------------------------------\n",
      "Total tolerance errors:  26.649746192893403 %\n",
      "Total corrupted frames:  0.25380710659898476 %\n"
     ]
    }
   ],
   "source": [
    "db = SyncReader(root_dir+folder,tolerance=20000,offset_radar=offset_radar,offset_scala=offset_scala)\n",
    "can_decoder = CANDecoder('buick_enclave_2016.dbc')"
   ]
  },
  {
   "cell_type": "code",
   "execution_count": 5,
   "id": "de890cb1",
   "metadata": {},
   "outputs": [
    {
     "name": "stdout",
     "output_type": "stream",
     "text": [
      "Camera position:\n",
      "\t- X (m): -0.020186796714839514\n",
      "\t- Y (m): -1.3719361530482823\n",
      "\t- Z (m): 1.4507237940270539\n",
      "\t- Pitch (deg): -67.35504142703144\n",
      "\t- Yaw (deg): 92.67091354619257\n",
      "\t- Roll (deg): 85.48210319624722\n"
     ]
    }
   ],
   "source": [
    "camera_matrix = np.array([[1.84541929e+03, 0.00000000e+00, 8.55802458e+02],\n",
    "                 [0.00000000e+00 , 1.78869210e+03 , 6.07342667e+02],[0.,0.,1]])\n",
    "dist_coeffs = np.array([2.51771602e-01,-1.32561698e+01,4.33607564e-03,-6.94637533e-03,5.95513933e+01])\n",
    "rvecs = np.array([1.61803058, 0.03365624,-0.04003127])\n",
    "tvecs = np.array([0.09138029,1.38369885,1.43674736])\n",
    "\n",
    "CAM = cam.Camera(intrinsics=camera_matrix,dist_coeffs=dist_coeffs,tVec=tvecs,rVec=rvecs,ImageWidth=1920,ImageHeight=1080)"
   ]
  },
  {
   "cell_type": "code",
   "execution_count": 6,
   "id": "7678b0ef",
   "metadata": {},
   "outputs": [],
   "source": [
    "from scipy.spatial.transform import Rotation as R\n",
    "\n",
    "def rotation2d(xy,roll,yaw,pitch,order=0):\n",
    "    \n",
    "    pitch = np.radians(pitch)\n",
    "    yaw = np.radians(yaw)\n",
    "    roll = np.radians(roll)\n",
    "    \n",
    "    if(order==0):\n",
    "        xyz = np.hstack([xy,np.zeros( (len(xy),1))])\n",
    "    else:\n",
    "        xyz = np.hstack([np.expand_dims(xy[:,1],1),np.expand_dims(xy[:,0],1),np.zeros( (len(xy),1))])\n",
    "    \n",
    "    rotation_vector = np.array([roll,pitch,yaw])\n",
    "    rotation = R.from_rotvec(rotation_vector)\n",
    "    rotated_vec = rotation.apply(xyz)\n",
    "    \n",
    "    return rotated_vec[:,:2]\n",
    "\n",
    "def rotation3d(x,y,z,roll,yaw,pitch):\n",
    "    \n",
    "    pitch = np.radians(pitch)\n",
    "    yaw = np.radians(yaw)\n",
    "    roll = np.radians(roll)\n",
    "    \n",
    "    xyz = np.stack([x,y,z],axis=1)\n",
    "    \n",
    "    rotation_vector = np.array([roll,pitch,yaw])\n",
    "    rotation = R.from_rotvec(rotation_vector)\n",
    "    rotated_vec = rotation.apply(xyz)\n",
    "    \n",
    "    return rotated_vec[:,0],rotated_vec[:,1],rotated_vec[:,2]\n",
    "\n",
    "\n",
    "#    float x,y,z;\n",
    "#    float intensity;\n",
    "#    float radialDistance;\n",
    "#    float polAngle,aziAngle;\n",
    "#    uint8_t layer_index;\n",
    "\n",
    "def ApplyCalib(pcl,index,yaw):\n",
    "    \n",
    "    if(index%2):\n",
    "        offset = -.50/180*3.14\n",
    "    else:\n",
    "        offset = +.10/180*3.14\n",
    "    \n",
    "    offset+=0.5/180*3.14\n",
    "    \n",
    "    x = pcl[:,4] * np.cos(pcl[:,5]+offset) * np.cos(pcl[:,6]+yaw)\n",
    "    y = pcl[:,4] * np.cos(pcl[:,5]+offset) * np.sin(pcl[:,6]+yaw)\n",
    "    z = pcl[:,4] * np.sin(pcl[:,5]+offset) + 0.37#0.42\n",
    "    \n",
    "    pcl[:,0] = x\n",
    "    pcl[:,1] = y\n",
    "    pcl[:,2] = z\n",
    "    \n",
    "    return pcl"
   ]
  },
  {
   "cell_type": "code",
   "execution_count": 7,
   "id": "07f9b11e",
   "metadata": {},
   "outputs": [],
   "source": [
    "def LoadPolygon(filename):\n",
    "    # Opening JSON file\n",
    "    f = open(filename)\n",
    "\n",
    "    # returns JSON object as \n",
    "    # a dictionary\n",
    "    data = json.load(f)\n",
    "    f.close()\n",
    "    \n",
    "    return np.array(data['annotations'][0]['geometry']['vertices']).reshape(2,-1,order='F')"
   ]
  },
  {
   "cell_type": "code",
   "execution_count": 8,
   "id": "c0a29f84",
   "metadata": {},
   "outputs": [
    {
     "name": "stdout",
     "output_type": "stream",
     "text": [
      "Annotate image 288\n",
      "Annotate image 277\n",
      "Annotate image 268\n",
      "Annotate image 265\n",
      "Annotate image 258\n",
      "Annotate image 255\n",
      "Annotate image 248\n",
      "Annotate image 245\n",
      "Annotate image 239\n",
      "Annotate image 235\n",
      "Annotate image 228\n",
      "Annotate image 224\n",
      "Annotate image 217\n",
      "Annotate image 212\n",
      "Annotate image 206\n",
      "Annotate image 200\n",
      "Annotate image 193\n",
      "Annotate image 189\n",
      "Annotate image 183\n",
      "Annotate image 179\n",
      "Annotate image 173\n",
      "Annotate image 168\n",
      "Annotate image 161\n",
      "Annotate image 157\n",
      "Annotate image 150\n",
      "Annotate image 146\n",
      "Annotate image 139\n",
      "Annotate image 134\n",
      "Annotate image 126\n",
      "Annotate image 121\n",
      "Annotate image 113\n",
      "Annotate image 108\n",
      "Annotate image 100\n",
      "Annotate image 95\n",
      "Annotate image 87\n",
      "Annotate image 82\n",
      "Annotate image 75\n",
      "Annotate image 71\n",
      "Annotate image 64\n",
      "Annotate image 60\n",
      "Annotate image 53\n",
      "Annotate image 50\n",
      "Annotate image 43\n",
      "Annotate image 39\n",
      "Annotate image 31\n",
      "Annotate image 27\n",
      "Annotate image 19\n"
     ]
    }
   ],
   "source": [
    "StepMax = 15\n",
    "init = True\n",
    "absolute_angle=0\n",
    "absolute_dist = 0\n",
    "absolute_dX = 0\n",
    "absolute_dY = 0\n",
    "\n",
    "nbImage = 0\n",
    "history = {}\n",
    "entry = {'annotation':[],'image':[],'scala':[]}\n",
    "for i in np.arange(len(db)-2,0,-1):\n",
    "\n",
    "    datas=db.GetSensorData(i)\n",
    "    img = datas['camera']['data']\n",
    "    timestamp = datas['scala']['timestamp']\n",
    "    SteeringWheel,YawRate,VehSpdAvgDrvn = db.GetMostRecentOdometry(can_decoder,timestamp)\n",
    "    \n",
    "    if(init):\n",
    "        print('Annotate image',i)\n",
    "        previousTime = timestamp\n",
    "        stepDist = 0\n",
    "        init=False\n",
    "        nbImage+=1\n",
    "        \n",
    "        annotation = LoadPolygon('export_'+folder+'/RoadSeg/image{:05d}.json'.format(i))\n",
    "\n",
    "        entry['image'] = img\n",
    "        entry['annotation'] = annotation\n",
    "        entry['scala'] = datas['scala']['data']\n",
    "        entry['timestamp'] = timestamp\n",
    "        entry['odometry'] = [SteeringWheel,YawRate,VehSpdAvgDrvn]\n",
    "        \n",
    "        entry['Dx'] = 0\n",
    "        entry['Dy'] = 0\n",
    "        entry['absolute_angle'] = 0\n",
    "        entry['absolute_dist'] = 0\n",
    "        \n",
    "        history[i] = entry.copy()\n",
    "        \n",
    "    else:\n",
    "        \n",
    "        dT_sec = (timestamp-previousTime)/1e6\n",
    "        relative_angle = YawRate*dT_sec\n",
    "        absolute_angle +=relative_angle\n",
    "        dist = VehSpdAvgDrvn*1000/3600 *dT_sec\n",
    "        Dx = np.cos(absolute_angle/180*3.14)*dist # Longi\n",
    "        Dy = np.sin(absolute_angle/180*3.14)*dist # Lat\n",
    "\n",
    "        absolute_dist+=dist\n",
    "        absolute_dX += Dx\n",
    "        absolute_dY += Dy\n",
    "        stepDist+=(-dist)\n",
    "        previousTime = timestamp\n",
    "        \n",
    "        if(stepDist>=StepMax):\n",
    "            stepDist=0\n",
    "            \n",
    "            print('Annotate image',i)\n",
    "            nbImage+=1\n",
    "            \n",
    "            annotation = LoadPolygon('export_'+folder+'/RoadSeg/image{:05d}.json'.format(i))\n",
    "            \n",
    "            entry['image'] = img\n",
    "            entry['annotation'] = annotation\n",
    "            entry['scala'] = datas['scala']['data']\n",
    "            entry['timestamp'] = timestamp\n",
    "            entry['odometry'] = [SteeringWheel,YawRate,VehSpdAvgDrvn]\n",
    "            \n",
    "            entry['Dx'] = absolute_dX\n",
    "            entry['Dy'] = absolute_dY\n",
    "            entry['absolute_angle'] = absolute_angle\n",
    "            entry['absolute_dist'] = absolute_dist\n",
    "        \n",
    "            history[i] = entry.copy()\n",
    "            "
   ]
  },
  {
   "cell_type": "code",
   "execution_count": 16,
   "id": "4511d563",
   "metadata": {},
   "outputs": [
    {
     "name": "stdout",
     "output_type": "stream",
     "text": [
      "288\n",
      "277\n",
      "--------------\n",
      "Polygon\n",
      "Polygon\n",
      "Polygon\n",
      "268\n",
      "--------------\n",
      "Polygon\n",
      "Polygon\n",
      "Polygon\n",
      "265\n",
      "--------------\n",
      "Polygon\n",
      "Polygon\n",
      "Polygon\n",
      "258\n",
      "--------------\n",
      "Polygon\n",
      "Polygon\n",
      "Polygon\n",
      "255\n",
      "--------------\n",
      "Polygon\n",
      "Polygon\n",
      "Polygon\n",
      "248\n",
      "--------------\n",
      "Polygon\n",
      "Polygon\n",
      "Polygon\n",
      "245\n",
      "--------------\n",
      "Polygon\n",
      "Polygon\n",
      "Polygon\n",
      "239\n",
      "--------------\n",
      "Polygon\n",
      "Polygon\n",
      "Polygon\n",
      "235\n",
      "--------------\n",
      "Polygon\n",
      "Polygon\n",
      "Polygon\n",
      "228\n",
      "--------------\n",
      "Polygon\n",
      "Polygon\n",
      "Polygon\n",
      "224\n",
      "--------------\n",
      "Polygon\n",
      "Polygon\n",
      "Polygon\n",
      "217\n",
      "--------------\n",
      "Polygon\n",
      "Polygon\n",
      "Polygon\n",
      "212\n",
      "--------------\n",
      "Polygon\n",
      "Polygon\n",
      "Polygon\n",
      "206\n",
      "--------------\n",
      "Polygon\n",
      "Polygon\n",
      "Polygon\n",
      "200\n",
      "--------------\n",
      "Polygon\n",
      "Polygon\n",
      "Polygon\n",
      "193\n",
      "--------------\n",
      "Polygon\n",
      "Polygon\n",
      "Polygon\n",
      "189\n",
      "--------------\n",
      "Polygon\n",
      "Polygon\n",
      "Polygon\n",
      "183\n",
      "--------------\n",
      "Polygon\n",
      "Polygon\n",
      "Polygon\n",
      "179\n",
      "--------------\n",
      "Polygon\n",
      "Polygon\n",
      "Polygon\n",
      "173\n",
      "--------------\n",
      "Polygon\n",
      "Polygon\n",
      "Polygon\n",
      "168\n",
      "--------------\n",
      "Polygon\n",
      "Polygon\n",
      "Polygon\n",
      "161\n",
      "--------------\n",
      "Polygon\n",
      "Polygon\n",
      "Polygon\n",
      "157\n",
      "--------------\n",
      "Polygon\n",
      "Polygon\n",
      "Polygon\n",
      "150\n",
      "--------------\n",
      "Polygon\n",
      "Polygon\n",
      "Polygon\n",
      "146\n",
      "--------------\n",
      "Polygon\n",
      "Polygon\n",
      "Polygon\n",
      "139\n",
      "--------------\n",
      "Polygon\n",
      "Polygon\n",
      "Polygon\n",
      "134\n",
      "--------------\n",
      "Polygon\n",
      "Polygon\n",
      "Polygon\n",
      "126\n",
      "--------------\n",
      "Polygon\n",
      "Polygon\n",
      "Polygon\n",
      "121\n",
      "--------------\n",
      "Polygon\n",
      "Polygon\n",
      "Polygon\n",
      "113\n",
      "--------------\n",
      "Polygon\n",
      "Polygon\n",
      "Polygon\n",
      "108\n",
      "--------------\n",
      "Polygon\n",
      "Polygon\n",
      "Polygon\n",
      "100\n",
      "--------------\n",
      "Polygon\n",
      "Polygon\n",
      "Polygon\n",
      "95\n",
      "--------------\n",
      "Polygon\n",
      "Polygon\n",
      "Polygon\n",
      "87\n",
      "--------------\n",
      "Polygon\n",
      "Polygon\n",
      "Polygon\n",
      "82\n",
      "--------------\n",
      "Polygon\n",
      "Polygon\n",
      "Polygon\n",
      "75\n",
      "--------------\n",
      "Polygon\n",
      "Polygon\n",
      "Polygon\n",
      "71\n",
      "--------------\n",
      "Polygon\n",
      "Polygon\n",
      "Polygon\n",
      "64\n",
      "--------------\n",
      "Polygon\n",
      "Polygon\n",
      "Polygon\n",
      "60\n",
      "--------------\n",
      "Polygon\n",
      "Polygon\n",
      "Polygon\n",
      "53\n",
      "--------------\n",
      "Polygon\n",
      "Polygon\n",
      "Polygon\n",
      "50\n",
      "--------------\n",
      "Polygon\n",
      "Polygon\n",
      "MultiPolygon\n"
     ]
    },
    {
     "name": "stderr",
     "output_type": "stream",
     "text": [
      "<ipython-input-16-0a1e6459bccf>:28: ShapelyDeprecationWarning: __getitem__ for multi-part geometries is deprecated and will be removed in Shapely 2.0. Use the `geoms` property to access the constituent parts of a multi-part geometry.\n",
      "  P = split(P, lineSplit)[0]\n"
     ]
    },
    {
     "ename": "AttributeError",
     "evalue": "'MultiPolygon' object has no attribute 'exterior'",
     "output_type": "error",
     "traceback": [
      "\u001b[0;31m---------------------------------------------------------------------------\u001b[0m",
      "\u001b[0;31mAttributeError\u001b[0m                            Traceback (most recent call last)",
      "\u001b[0;32m<ipython-input-16-0a1e6459bccf>\u001b[0m in \u001b[0;36m<module>\u001b[0;34m\u001b[0m\n\u001b[1;32m     45\u001b[0m         \u001b[0mpolygon3\u001b[0m \u001b[0;34m=\u001b[0m \u001b[0munary_union\u001b[0m\u001b[0;34m(\u001b[0m\u001b[0;34m[\u001b[0m\u001b[0mpolygon\u001b[0m\u001b[0;34m,\u001b[0m\u001b[0mpolygon2\u001b[0m\u001b[0;34m]\u001b[0m\u001b[0;34m)\u001b[0m\u001b[0;34m\u001b[0m\u001b[0;34m\u001b[0m\u001b[0m\n\u001b[1;32m     46\u001b[0m         \u001b[0mprint\u001b[0m\u001b[0;34m(\u001b[0m\u001b[0mpolygon3\u001b[0m\u001b[0;34m.\u001b[0m\u001b[0mgeom_type\u001b[0m\u001b[0;34m)\u001b[0m\u001b[0;34m\u001b[0m\u001b[0;34m\u001b[0m\u001b[0m\n\u001b[0;32m---> 47\u001b[0;31m         \u001b[0mx\u001b[0m\u001b[0;34m,\u001b[0m\u001b[0my\u001b[0m \u001b[0;34m=\u001b[0m \u001b[0mpolygon3\u001b[0m\u001b[0;34m.\u001b[0m\u001b[0mexterior\u001b[0m\u001b[0;34m.\u001b[0m\u001b[0mxy\u001b[0m\u001b[0;34m\u001b[0m\u001b[0;34m\u001b[0m\u001b[0m\n\u001b[0m\u001b[1;32m     48\u001b[0m         \u001b[0mpolygon\u001b[0m \u001b[0;34m=\u001b[0m \u001b[0mpolygon3\u001b[0m\u001b[0;34m\u001b[0m\u001b[0;34m\u001b[0m\u001b[0m\n",
      "\u001b[0;31mAttributeError\u001b[0m: 'MultiPolygon' object has no attribute 'exterior'"
     ]
    }
   ],
   "source": [
    "FirstTime=True\n",
    "\n",
    "lineSplit = LineString([(-100,30), (100,30)])\n",
    "\n",
    "for k in list(history.keys()):\n",
    "    print(k)\n",
    "    xy = []\n",
    "    for x,y in zip(history[k]['annotation'][0],history[k]['annotation'][1]):\n",
    "        dX,dY = CAM.imageToWorld_Z(x*img.shape[1],y*img.shape[0],0)\n",
    "        \n",
    "        if(dY<0):\n",
    "            dY = 100\n",
    "        \n",
    "        if(FirstTime==False):\n",
    "            dX = np.clip(dX,-20,20)\n",
    "            dY = np.clip(dY,0,30)\n",
    "            FirstTime=True\n",
    "        else:\n",
    "            dX = np.clip(dX,-20,20)\n",
    "            dY = np.clip(dY,0,100)\n",
    "        xy.append([dX,dY])\n",
    "            \n",
    "    if(FirstTime):\n",
    "        polygon = Polygon(xy)\n",
    "        FirstTime=False\n",
    "    else:\n",
    "        # Limit the range\n",
    "        P = Polygon(xy)\n",
    "        P = split(P, lineSplit)\n",
    "        \n",
    "        try:\n",
    "            if(len(P.geoms)>1):\n",
    "                break\n",
    "                \n",
    "        \n",
    "        x,y = P.exterior.xy\n",
    "        pts = np.stack(P.exterior.xy).transpose()\n",
    "\n",
    "        data3 = rotation2d(pts,0,-history[k]['absolute_angle'],0,order=0)\n",
    "        data3[:,1]+=history[k]['Dx']\n",
    "        data3[:,0]+=history[k]['Dy']\n",
    "\n",
    "        xy2 = []\n",
    "        for x,y in zip(data3[:,0],data3[:,1]):\n",
    "            xy2.append([x,y])\n",
    "\n",
    "        print('--------------')\n",
    "        polygon2 =Polygon(xy2)# make_valid(Polygon(xy))\n",
    "        print(polygon.geom_type)\n",
    "        print(polygon2.geom_type)\n",
    "        \n",
    "        polygon3 = unary_union([polygon,polygon2])\n",
    "        print(polygon3.geom_type)\n",
    "        x,y = polygon3.exterior.xy\n",
    "        polygon = polygon3"
   ]
  },
  {
   "cell_type": "code",
   "execution_count": 42,
   "id": "3be89c65",
   "metadata": {},
   "outputs": [
    {
     "data": {
      "image/svg+xml": [
       "<svg xmlns=\"http://www.w3.org/2000/svg\" xmlns:xlink=\"http://www.w3.org/1999/xlink\" width=\"100.0\" height=\"100.0\" viewBox=\"-7.080553404132429 3.358832766092385 28.122113150445216 27.6827269802204\" preserveAspectRatio=\"xMinYMin meet\"><g transform=\"matrix(1,0,0,-1,0,34.40039251240517)\"><path fill-rule=\"evenodd\" fill=\"#ff3333\" stroke=\"#555555\" stroke-width=\"0.5624422630089043\" opacity=\"0.6\" d=\"M -2.613068034064367,5.757139445638553 L -2.5225307191491173,4.400392512405171 L -2.2749360862294887,5.282422172105885 L -1.9445236532958068,6.60060778434013 L -1.7213210006440538,7.707531921173136 L -1.9627226785581637,9.274864708337994 L -6.038993657819643,27.887740034746376 L -1.778176705718913,30.0 L 2.1657877732977022,30.0 L 20.0,30.0 L 20.0,30.0 L 20.0,30.0 L 17.32770756622933,30.0 L 12.604532362000336,30.0 L 8.77033622907675,30.0 L 7.242258103018836,30.0 L 5.810320744920009,25.169400352539007 L 4.4279084180153045,17.708307649277103 L 3.129684650255835,9.249167975271728 L 2.5223072914792954,6.231485817046464 L 1.5642416005232083,9.293029819204904 L 1.5485843358062954,9.280037801335762 L -2.3348778618604324,5.401888707729564 L -2.613068034064367,5.757139445638553 z\" /></g></svg>"
      ],
      "text/plain": [
       "<shapely.geometry.polygon.Polygon at 0x7f29a080f4c0>"
      ]
     },
     "execution_count": 42,
     "metadata": {},
     "output_type": "execute_result"
    }
   ],
   "source": [
    "P = Polygon(xy)\n",
    "P"
   ]
  },
  {
   "cell_type": "code",
   "execution_count": 44,
   "id": "95232aa3",
   "metadata": {},
   "outputs": [
    {
     "data": {
      "text/plain": [
       "30.0"
      ]
     },
     "execution_count": 44,
     "metadata": {},
     "output_type": "execute_result"
    }
   ],
   "source": [
    "np.max(P.exterior.xy[1])"
   ]
  },
  {
   "cell_type": "code",
   "execution_count": 18,
   "id": "0b2dd827",
   "metadata": {},
   "outputs": [
    {
     "data": {
      "image/svg+xml": [
       "<svg xmlns=\"http://www.w3.org/2000/svg\" xmlns:xlink=\"http://www.w3.org/1999/xlink\" width=\"100.0\" height=\"100.0\" viewBox=\"-7.062977957323437 3.3764082129013775 15.329220359846065 27.647576086602417\" preserveAspectRatio=\"xMinYMin meet\"><g transform=\"matrix(1,0,0,-1,0,34.40039251240517)\"><g><path fill-rule=\"evenodd\" fill=\"#66cc99\" stroke=\"#555555\" stroke-width=\"0.5529515217320483\" opacity=\"0.6\" d=\"M -2.2149784588788273,5.5216240720332035 L -2.2749360862294887,5.282422172105885 L -2.5225307191491173,4.400392512405171 L -2.613068034064367,5.757139445638553 L -2.3348778618604324,5.401888707729564 L -2.2149784588788273,5.5216240720332035 z\" /><path fill-rule=\"evenodd\" fill=\"#66cc99\" stroke=\"#555555\" stroke-width=\"0.5529515217320483\" opacity=\"0.6\" d=\"M -2.2149784588788273,5.5216240720332035 L -1.9445236532958068,6.60060778434013 L -1.7213210006440538,7.707531921173136 L -1.9627226785581637,9.274864708337994 L -6.038993657819643,27.887740034746376 L -1.778176705718913,30.0 L 2.1657877732977022,30.0 L 7.242258103018836,30.0 L 5.810320744920009,25.169400352539007 L 4.4279084180153045,17.708307649277103 L 3.129684650255835,9.249167975271728 L 2.5223072914792954,6.231485817046464 L 1.5642416005232083,9.293029819204904 L 1.5485843358062954,9.280037801335762 L -2.2149784588788273,5.5216240720332035 z\" /></g></g></svg>"
      ],
      "text/plain": [
       "<shapely.geometry.collection.GeometryCollection at 0x7f29a76a88b0>"
      ]
     },
     "execution_count": 18,
     "metadata": {},
     "output_type": "execute_result"
    }
   ],
   "source": [
    "P = split(P, lineSplit)"
   ]
  },
  {
   "cell_type": "code",
   "execution_count": 39,
   "id": "a2b1fdf3",
   "metadata": {},
   "outputs": [
    {
     "data": {
      "text/plain": [
       "5.5216240720332035"
      ]
     },
     "execution_count": 39,
     "metadata": {},
     "output_type": "execute_result"
    }
   ],
   "source": [
    "np.min(P.geoms[1].exterior.xy[1])"
   ]
  },
  {
   "cell_type": "code",
   "execution_count": 13,
   "id": "3c5657af",
   "metadata": {},
   "outputs": [
    {
     "data": {
      "image/svg+xml": [
       "<svg xmlns=\"http://www.w3.org/2000/svg\" xmlns:xlink=\"http://www.w3.org/1999/xlink\" width=\"101.4737978652019\" height=\"300\" viewBox=\"-51.50463236223747 -731.0332054052922 101.4737978652019 862.9960209978034\" preserveAspectRatio=\"xMinYMin meet\"><g transform=\"matrix(1,0,0,-1,0,-599.070389812781)\"><path fill-rule=\"evenodd\" fill=\"#66cc99\" stroke=\"#555555\" stroke-width=\"5.753306806652023\" opacity=\"0.6\" d=\"M 3.4525056545428807,-680.5135377337751 L -1.128931322047615,-675.4738938888478 L -0.9187706130886983,-660.4212425732403 L 1.2221516927420917,-659.4514788090588 L -2.7712090880641496,-653.645623511158 L -2.791897123705147,-646.0340586286914 L -1.936215013861228,-639.723582706774 L -2.6040589407156443,-638.7108292094298 L -2.8684753051907377,-622.5333206098653 L -2.314868383560085,-622.5203325743097 L -2.107840879959112,-615.9104052328385 L -4.36799409053188,-607.1683269618972 L -3.595507327294671,-607.1532361289375 L -11.77748315887155,-591.9303684897658 L -2.915969593506569,-591.7630619631474 L -3.642238312674391,-584.4842631589127 L -5.545187051187203,-574.6990437868398 L -3.2323289543480507,-574.6553703050499 L -6.003539025047202,-558.4561053509581 L -3.241825059048199,-558.4003475312278 L -4.152263001846898,-543.8406413508213 L -4.161484808933564,-543.8266020173205 L -11.835957799072878,-527.3645353803339 L -3.4734982650013695,-527.2175500218842 L -5.036745270888757,-524.7653766346904 L -7.0332006586179485,-509.34864324178267 L -4.49432650344857,-509.31066253990133 L -7.6907321001153885,-493.58472365888815 L -4.6318616827703085,-493.53896582040244 L -5.240869045011461,-477.479650714272 L -4.871825997860828,-477.472679483894 L -4.723248056635383,-463.30569995883974 L -5.176296512817558,-462.6396090224903 L -5.143122108879725,-456.7860820766725 L -4.317902568885698,-448.7179506297119 L -5.915536990632609,-446.33013008600597 L -6.163417938903035,-441.86167032151815 L -5.852023078032886,-436.7299871643881 L -5.080116322398704,-430.07524975921314 L -5.454740154919699,-429.53026821897697 L -4.804609737659814,-415.21414714608085 L -4.499498946018314,-414.7340982123555 L -6.126645934865714,-412.3009214615296 L -5.1337848832634565,-394.99724570202306 L -5.986235088180256,-393.7255138953654 L -4.39000431621436,-379.45374333315186 L -5.714473623974998,-377.5632950456638 L -5.662791247578445,-370.3226820598591 L -4.869491293482019,-366.8974722878569 L -6.0015751441188865,-361.8839227436338 L -5.340456384297279,-360.0030648127437 L -4.288670442544553,-360.409760201059 L -3.7697862254959524,-359.41134000969134 L -3.270248880158615,-358.9600374674196 L -6.250573862876084,-354.529995779406 L -6.664945625753711,-353.2052717216961 L -7.389092638202202,-351.37812444424304 L -8.834679434036186,-348.80726508876455 L -9.547267776170566,-347.6769008944962 L -9.758752400064472,-347.8115214828422 L -12.810752415859703,-341.95462265730987 L -9.155753204935575,-343.2530735269346 L -7.578914930571092,-342.7557052518857 L -6.283484466968807,-342.7683790174527 L -5.33915327086683,-342.79516280481755 L -5.275003999256425,-340.6132482822747 L -10.117011010202175,-332.5455508486794 L -8.620776866416216,-333.91790510169346 L -7.931318081668295,-334.55898406456436 L -7.330458888155752,-334.58810072351014 L -7.599455730503121,-332.4644249733818 L -6.517370746937429,-327.2629187801016 L -3.914415615023014,-323.35430628927367 L -7.218451519373031,-318.30180320468196 L -5.304208894511252,-303.8809238379612 L -6.871014434628109,-301.53083099415835 L -4.933459660068632,-286.295473867076 L -4.549949789712652,-285.64248920375525 L -6.549985431602384,-282.88335001234617 L -6.18089404089208,-266.56273632622987 L -6.453378115505067,-263.4391669298817 L -6.107610315075282,-263.4310524716687 L -6.174294913325384,-243.4794025201991 L -5.006831451145301,-243.45352660952275 L -6.109840835017839,-242.02992934012968 L -5.95411630786963,-226.2647824853391 L -6.480468003538583,-225.51493748842609 L -6.700875544797934,-205.25352698597186 L -5.974204108660666,-205.261121031759 L -5.677386869065294,-188.4131421385677 L -6.251209839205455,-187.51199023004338 L -19.54181676972624,-168.1999871949041 L -5.759811950099316,-168.58757557182997 L -6.5990315200849645,-150.6762479662572 L -7.802613361239763,-149.30128389877717 L -7.616195440211612,-149.30347654958973 L -7.4775268129363575,-149.305107572383 L -7.243368998028365,-149.3078617406534 L -7.186949296768732,-149.3085253501558 L -6.820080412994539,-149.3128404683144 L -6.48086131296158,-149.3168303692382 L -6.384445421235948,-149.3179644146249 L -6.538427788604444,-148.29321771419652 L -6.6071487850040915,-145.95364311541638 L -7.061820491927012,-144.0916553114676 L -8.634379427679422,-140.3764777050592 L -9.764830985915236,-139.66125028554825 L -10.674125352845694,-139.97635307877871 L -12.660195136157487,-135.6186001795669 L -10.823113492715194,-137.30104835513467 L -10.036608980278283,-135.89506910694948 L -8.545346941816348,-135.36708217879394 L -6.829975766718871,-132.1807564051474 L -6.170630440407219,-132.18161285170768 L -6.124540585413631,-132.1816727194222 L -4.3054170674308265,-132.18403564218437 L -3.6915338684571797,-132.18483303640738 L -7.136406317149695,-126.87474627386935 L -7.114416705377386,-126.77040432777522 L -6.842884756421317,-125.6217398420003 L -6.293693320795797,-124.00878052874253 L -6.06717045011848,-120.19007587266493 L -4.735375831292955,-115.82985979708326 L -6.714123694671649,-112.86912727710346 L -5.091846109444044,-97.03620452045378 L -4.501316502524733,-96.50581164938973 L -6.778265032366867,-93.06499868571605 L -5.428329343583561,-78.21349683035082 L -6.678511447930263,-76.33431381495987 L -6.134307200891019,-58.11593391694374 L -6.545351260407599,-57.49405272608123 L -7.040505804550619,-38.9789346202939 L -6.985609798481414,-38.97911436398666 L -8.213891728849887,-25.447095778217996 L -10.684779173021578,-23.496635118122132 L -6.90286164208118,-23.501625070368924 L -8.701537579826283,-6.939207670244315 L -6.963266488348236,-6.955126674814511 L -5.885783281243664,9.043368764968129 L -5.5467446882939235,9.042925925063958 L -4.683466716414781,9.041798342711127 L -6.926386937405608,12.518867561753375 L -8.525299614540637,57.733420937923704 L -8.337328532808549,68.62802554253294 L -11.112440307234628,91.17149932289244 L -16.678673103006687,100.0 L -14.73891009839474,100.0 L -12.774022455152796,100.0 L 9.471084278881088,100.0 L 5.137370671044434,74.3023224177313 L 2.1710378893836193,24.269208929358143 L 2.057702897145526,10.44949525747866 L 1.9213580754620787,9.033171360300518 L 2.8235379906526443,9.03199296564134 L 2.164507283290681,8.127596382550418 L 2.0291026037805016,-7.037478366317802 L 7.092348519373523,-7.083847333313518 L 2.710590917687554,-11.453531964235406 L 2.323803245458121,-23.513798952218362 L 5.561874507015075,-23.518071340718294 L 1.8727295252739133,-34.80953750242702 L 1.8993453652891898,-39.008206000436765 L 4.9377373042996595,-39.018154479866695 L 2.1694099444284936,-49.67342146318214 L 2.113691778884695,-57.97823145471568 L 7.5958933042401275,-57.96390614217819 L 2.1478927233936127,-62.931289247118436 L 2.145981898616513,-82.1027512598049 L 2.076511329923216,-81.95101262932624 L 2.1166562494682806,-93.28268039798941 L 1.4878376300086988,-97.17186479705813 L 1.4394773872224103,-97.20065202332246 L 1.6598344099882003,-103.01149505402093 L 1.762466278689533,-109.8292712023856 L 1.8797828799138938,-109.82827556399624 L 2.0384251173761054,-119.25002599546679 L 2.872870678567164,-122.62208180932467 L 3.876603439836848,-123.37979233055358 L 1.6361803486298994,-130.5510513260385 L 0.022945236669846714,-132.18965790241583 L 1.9242878143711672,-132.19212762237223 L 2.035753103909096,-132.19227240851086 L 2.2100082871204965,-132.19249875462467 L 2.271264691731199,-132.1925783226976 L 2.5110407718246135,-132.1928897761816 L 3.7586003797997876,-132.19451027471604 L 5.0782961488513045,-132.19622447341723 L 7.418225197924492,-132.1992638885846 L 6.212978346423087,-133.56361609809704 L 5.475443816396845,-134.57084237525692 L 4.529102243636601,-134.5420873902769 L 3.4998421684504484,-135.4559547982393 L 2.754628857144689,-137.67977279010893 L 2.629705984006269,-140.45138904609948 L 2.3625950783372573,-144.80948723853777 L 2.39282032304062,-149.42120276617476 L 2.7916339181199565,-149.4258936185804 L 2.8841513000210672,-149.42698180962708 L 2.9428075718698206,-149.42767172571143 L 2.682543531004106,-161.77904542642446 L 2.697320726880678,-173.48312810434527 L 2.5672671927380297,-172.9665142136706 L 2.529436466013291,-178.25807659550645 L 2.653537432829906,-186.96790702598523 L 2.1540943033302367,-191.32046089074834 L 1.7627481192942813,-189.1006067911406 L 1.7539877726254363,-189.11113327258525 L 2.1662439731493315,-199.87034458711648 L 2.644655368221101,-208.39165130145017 L 1.8173541172019934,-205.62196618262763 L 1.4661167285068128,-220.7483750309092 L 2.362608246531811,-220.75059642695584 L 2.778608545076241,-241.35208078051036 L 1.4860519066497226,-239.1635216836463 L 0.3433305649619065,-241.46561871204977 L -1.580772708570414,-243.37759070842884 L 4.975057798582258,-243.2322858743951 L 3.312089913886762,-254.15350996812617 L 1.5311509861725052,-261.5954288530954 L 0.7638375577412339,-263.26979374093185 L 7.105959223894995,-263.1209572061881 L 3.5808286407650742,-282.2937839723329 L 2.0039591552198543,-281.66080165453536 L 1.2011077267497763,-283.3893958322453 L 2.0089031363550154,-283.38364495186624 L 3.2242054933512723,-296.65610034895786 L 2.4208979259253756,-301.01353098363245 L 6.402745379435296,-300.97477211085265 L 4.00783342583145,-317.1501235288845 L 2.3589619477948203,-319.9827517247353 L 1.7785783070464278,-321.0951866024471 L 3.211777811147294,-321.0802940861489 L 3.1324591104131394,-321.66556914531543 L 3.177952583280761,-334.44585523040826 L 3.4577147770058985,-335.2298837044664 L 3.6409822325536774,-335.4461489471617 L 2.6861968153880826,-338.49013485184395 L 2.778896560310672,-339.96535135784745 L 2.7380137427300193,-343.75484081690814 L 3.3850718561236217,-342.8706216345298 L 4.051997627255523,-343.1340430868239 L 5.033009914017255,-342.2187394080545 L 7.8244397729789945,-339.4978507596734 L 5.93984187455393,-346.5927930430418 L 5.478358488176771,-347.244810012439 L 4.780475491752434,-347.8101244931956 L 4.016888808405232,-347.5523762822355 L 3.2589400870716014,-349.21484980276966 L 2.9897308755563445,-349.9506014888848 L 2.697457580618485,-351.58021495054385 L 2.5092578661161697,-355.05862169053825 L 1.824385809570379,-357.21715543632706 L 0.4642555678614886,-358.4533945481915 L 2.2089545236023365,-358.4329853573786 L 2.084971529098556,-375.5625917742393 L 2.219152853559403,-375.56128580474297 L 2.652077055184781,-384.2116665225451 L 2.3353379628788042,-394.6686491803337 L 2.5242047156765928,-394.6657001616407 L 2.7842791175808292,-394.6616392866512 L 2.851468347943575,-406.1191056141928 L 3.359544868038959,-417.4628139865238 L 2.662833089659168,-416.06718278527217 L 3.1348964782801723,-427.880451777492 L 3.477713473604064,-436.076606486639 L 3.409507815415636,-435.7275677202595 L 3.6643872097029067,-442.0205020737004 L 3.796836858862835,-449.579806582779 L 3.653436838058362,-451.88474022859737 L 3.9547441423806706,-460.3184919283264 L 4.137099783329463,-460.31457035406726 L 4.41213829914402,-477.2973052167586 L 4.858691648702589,-477.28886981525227 L 4.558116947097631,-481.97509066233454 L 4.301743188932556,-493.4053274529527 L 5.768897894654165,-493.3833801917424 L 4.385554622980333,-514.1624288378888 L 5.695192961564821,-515.1666061920333 L 5.510608250267845,-527.0596380928499 L 6.278362433253013,-527.0461434238082 L 7.956626346362048,-529.7085397941958 L 10.042689299462408,-530.686237766699 L 11.991539401201717,-529.7142594022213 L 12.264618614746183,-529.699840355641 L 9.739276963495495,-537.8643005907379 L 10.315261393579844,-540.3622432271918 L 8.951346660599558,-542.5917104004643 L 9.38569338461646,-542.58350877737 L 8.23922551814216,-543.9538669288024 L 6.969148601691966,-544.8814672035562 L 6.812006740793677,-545.151414334536 L 6.4433416382005255,-546.4971412945916 L 6.260794519245256,-549.6127829119712 L 6.2738498495251305,-558.2082301386608 L 6.877118436703203,-558.1960504047902 L 6.954176415357892,-558.194494637272 L 6.850679084399995,-572.0634358626082 L 6.445765758540376,-574.472619753349 L 7.816369605565342,-574.446738769887 L 7.829302045500686,-574.4464945678408 L 7.408435762705688,-591.1812161489914 L 7.33547426793584,-597.0974201249056 L 7.2909414773257755,-597.0041172785963 L 7.409866059853557,-606.9382418282601 L 7.686856645951417,-606.9328307081411 L 7.8030527718716804,-622.282958519576 L 8.053348866151296,-622.2770863845919 L 8.161309893284235,-637.5418015144254 L 12.654808849099602,-637.3235655600994 L 8.805436670247303,-643.5813971463596 L 8.973220428927586,-657.070769276833 L 9.50079896029883,-656.9761979351442 L 18.00634991045319,-655.4515313360932 L 9.809258479582875,-660.6406934866912 L 10.171389011110612,-672.9596766473971 L 14.30464517286994,-671.7018023837785 L 11.410102150182617,-677.3670706389189 L 11.668451254623044,-685.0352579128489 L 12.059764121920582,-689.8921770269677 L 12.544277504607944,-693.3410666289035 L 13.3120630396532,-696.5994721832923 L 11.485985398286113,-694.166174556866 L 11.447341587523741,-694.2295926958068 L 8.861224361789429,-699.070389812781 L -1.2762253669956678,-689.8102658924674 L 3.4525056545428807,-680.5135377337751 z M 1.7336304381069327,-205.34167139545426 L 1.6789830858522923,-205.15871995166484 L 1.5666812695205459,-205.33992670099218 L 1.7336304381069327,-205.34167139545426 z\" /></g></svg>"
      ],
      "text/plain": [
       "<shapely.geometry.polygon.Polygon at 0x7f29a487f7f0>"
      ]
     },
     "execution_count": 13,
     "metadata": {},
     "output_type": "execute_result"
    }
   ],
   "source": [
    "polygon"
   ]
  },
  {
   "cell_type": "code",
   "execution_count": 14,
   "id": "25828ab5",
   "metadata": {},
   "outputs": [
    {
     "data": {
      "text/plain": [
       "[<matplotlib.lines.Line2D at 0x7f29a4f77850>]"
      ]
     },
     "execution_count": 14,
     "metadata": {},
     "output_type": "execute_result"
    },
    {
     "data": {
      "image/png": "[encoded data removed]",
      "text/plain": [
       "<Figure size 432x288 with 1 Axes>"
      ]
     },
     "metadata": {
      "needs_background": "light"
     },
     "output_type": "display_data"
    }
   ],
   "source": [
    "x,y = polygon.exterior.xy\n",
    "plt.plot(x,y,'r')\n",
    "\n",
    "x,y = polygon2.exterior.xy\n",
    "plt.plot(x,y,'g')"
   ]
  },
  {
   "cell_type": "code",
   "execution_count": 230,
   "id": "ef1ff780",
   "metadata": {},
   "outputs": [
    {
     "ename": "AttributeError",
     "evalue": "'MultiPolygon' object has no attribute 'exterior'",
     "output_type": "error",
     "traceback": [
      "\u001b[0;31m---------------------------------------------------------------------------\u001b[0m",
      "\u001b[0;31mAttributeError\u001b[0m                            Traceback (most recent call last)",
      "\u001b[0;32m<ipython-input-230-a8b545ebbfe6>\u001b[0m in \u001b[0;36m<module>\u001b[0;34m\u001b[0m\n\u001b[0;32m----> 1\u001b[0;31m \u001b[0mx\u001b[0m\u001b[0;34m,\u001b[0m\u001b[0my\u001b[0m \u001b[0;34m=\u001b[0m \u001b[0mpolygon\u001b[0m\u001b[0;34m.\u001b[0m\u001b[0mexterior\u001b[0m\u001b[0;34m.\u001b[0m\u001b[0mxy\u001b[0m\u001b[0;34m\u001b[0m\u001b[0;34m\u001b[0m\u001b[0m\n\u001b[0m\u001b[1;32m      2\u001b[0m \u001b[0mA\u001b[0m \u001b[0;34m=\u001b[0m \u001b[0mpolygon\u001b[0m\u001b[0;34m.\u001b[0m\u001b[0mbuffer\u001b[0m\u001b[0;34m(\u001b[0m\u001b[0;36m10\u001b[0m\u001b[0;34m,\u001b[0m \u001b[0mjoin_style\u001b[0m\u001b[0;34m=\u001b[0m\u001b[0;36m1\u001b[0m\u001b[0;34m)\u001b[0m\u001b[0;34m.\u001b[0m\u001b[0mbuffer\u001b[0m\u001b[0;34m(\u001b[0m\u001b[0;34m-\u001b[0m\u001b[0;36m10.0\u001b[0m\u001b[0;34m,\u001b[0m \u001b[0mjoin_style\u001b[0m\u001b[0;34m=\u001b[0m\u001b[0;36m1\u001b[0m\u001b[0;34m)\u001b[0m\u001b[0;34m\u001b[0m\u001b[0;34m\u001b[0m\u001b[0m\n\u001b[1;32m      3\u001b[0m \u001b[0mxx\u001b[0m\u001b[0;34m,\u001b[0m\u001b[0myy\u001b[0m \u001b[0;34m=\u001b[0m \u001b[0mA\u001b[0m\u001b[0;34m.\u001b[0m\u001b[0mexterior\u001b[0m\u001b[0;34m.\u001b[0m\u001b[0mxy\u001b[0m\u001b[0;34m\u001b[0m\u001b[0;34m\u001b[0m\u001b[0m\n\u001b[1;32m      4\u001b[0m \u001b[0mplt\u001b[0m\u001b[0;34m.\u001b[0m\u001b[0mplot\u001b[0m\u001b[0;34m(\u001b[0m\u001b[0mx\u001b[0m\u001b[0;34m,\u001b[0m\u001b[0my\u001b[0m\u001b[0;34m,\u001b[0m\u001b[0;34m'r'\u001b[0m\u001b[0;34m)\u001b[0m\u001b[0;34m\u001b[0m\u001b[0;34m\u001b[0m\u001b[0m\n\u001b[1;32m      5\u001b[0m \u001b[0mplt\u001b[0m\u001b[0;34m.\u001b[0m\u001b[0mplot\u001b[0m\u001b[0;34m(\u001b[0m\u001b[0mxx\u001b[0m\u001b[0;34m,\u001b[0m\u001b[0myy\u001b[0m\u001b[0;34m,\u001b[0m\u001b[0;34m'g'\u001b[0m\u001b[0;34m)\u001b[0m\u001b[0;34m\u001b[0m\u001b[0;34m\u001b[0m\u001b[0m\n",
      "\u001b[0;31mAttributeError\u001b[0m: 'MultiPolygon' object has no attribute 'exterior'"
     ]
    }
   ],
   "source": [
    "x,y = polygon.exterior.xy\n",
    "A = polygon.buffer(10, join_style=1).buffer(-10.0, join_style=1)\n",
    "xx,yy = A.exterior.xy\n",
    "plt.plot(x,y,'r')\n",
    "plt.plot(xx,yy,'g')\n"
   ]
  },
  {
   "cell_type": "code",
   "execution_count": 227,
   "id": "6854333b",
   "metadata": {},
   "outputs": [
    {
     "data": {
      "image/svg+xml": [
       "<svg xmlns=\"http://www.w3.org/2000/svg\" xmlns:xlink=\"http://www.w3.org/1999/xlink\" width=\"100.0\" height=\"300\" viewBox=\"-35.037387499297324 -303.46021312114783 60.0131230686687 418.97791362580733\" preserveAspectRatio=\"xMinYMin meet\"><g transform=\"matrix(1,0,0,-1,0,-187.9425126164883)\"><path fill-rule=\"evenodd\" fill=\"#66cc99\" stroke=\"#555555\" stroke-width=\"2.7931860908387156\" opacity=\"0.6\" d=\"M -19.519686994637794,-168.2120214352945 L -19.291672854844844,-168.20702193877742 L -16.534452671576695,-168.28456265289313 L -15.566952404523363,-168.26493083550523 L -14.60587972249583,-168.1518756504732 L -13.660234515421028,-167.94645579423076 L -12.738872203843888,-167.65059490494755 L -11.850420813034598,-167.26706354877015 L -11.003200176521085,-166.79945327507224 L -10.20514402565899,-166.25214298367126 L -9.46372569482518,-165.6302579189641 L -8.785888137962784,-164.9396216749767 L -8.177978911832264,-164.1867016607736 L -7.6456907348128365,-163.3785485369118 L -7.194008177886662,-162.5227301900818 L -6.827160987013924,-161.6272608642247 L -6.548584474007768,-160.700526111772 L -6.360887346825631,-159.7512042677961 L -6.265827280527718,-158.7881851824205 L -6.264294457666425,-157.82048697251398 L -6.449527343779829,-153.867091430797 L -6.557471414444237,-152.79761680196972 L -6.779584441978814,-151.74590690513685 L -7.1133000704847955,-150.7241134899165 L -7.554762456470089,-149.74404264255037 L -7.788682303246661,-149.29140400943962 L -7.762856730552451,-149.0962293905548 L -7.65694052024177,-148.51887534064107 L -7.575702606726891,-147.5187603376185 L -7.595099719400311,-146.51553884169496 L -7.714936562386626,-145.5193115840242 L -7.934006582857538,-144.54010887569768 L -8.250104118963089,-143.58778961960175 L -8.660046607088429,-142.67194204806339 L -9.15970662484691,-141.80178718568732 L -9.744053447191117,-140.98608600934924 L -10.407203697242647,-140.23305124008576 L -10.664190629130117,-139.9691924265337 L -10.776217870618172,-139.75234586158567 L -12.558720846978304,-135.84125090492495 L -12.6450854769368,-135.62420490528473 L -12.498677799592361,-135.54766935425405 L -11.613499373329294,-135.0253364112653 L -10.78661077396617,-134.4149039466174 L -10.02674702568287,-133.722820401301 L -9.341935120531023,-132.9563967559095 L -8.739409223493407,-132.12372929944692 L -8.225534252750878,-131.2336141023532 L -7.805738642433896,-130.2954540972307 L -7.484456998134496,-129.31915974884538 L -7.265083250950131,-128.31504436269736 L -7.149934804927202,-127.29371513809281 L -7.124486178263761,-126.87606047165562 L -7.093201198110249,-126.68065614219648 L -6.8981340318264905,-125.85546143817602 L -6.765476423169875,-125.39439381301595 L -6.72971816157874,-125.28937283614358 L -6.4791841701219415,-124.42899066367511 L -6.306678938243955,-123.54963481502702 L -6.213587725675232,-122.65836673542395 L -6.084732341801751,-120.4861328550787 L -6.049841048419499,-120.19319074835948 L -5.9281055042906665,-119.6895101482588 L -5.746440897396134,-118.73826508911102 L -5.657642157781861,-117.77390832121122 L -5.662542101469532,-116.80548424958606 L -5.761094773396875,-115.84207542525071 L -5.952375878416042,-114.89271736276119 L -6.234591449973031,-113.96631379890688 L -6.6050946751673205,-113.0715531873063 L -6.7017914366320825,-112.86670244860193 L -6.688954599207141,-112.62348476316316 L -5.327619246646332,-99.33727673115872 L -5.27613007476312,-98.42695645743872 L -5.307769380817847,-97.51573031104078 L -5.422274136459025,-96.61117362597211 L -5.618692424566159,-95.72080629073125 L -5.895391352861722,-94.85203023290796 L -6.250070628702042,-94.0120678844326 L -6.6797816821952765,-93.20790213903392 L -6.766499726781019,-93.06203243736218 L -6.756430821444162,-92.82478663211722 L -5.731210981614648,-81.54569053894816 L -5.691141617586492,-80.50001165577419 L -5.760566439733953,-79.45587082489006 L -5.9387252116249645,-78.4247019092182 L -6.223667005840566,-77.41779672273896 L -6.61227156760328,-76.44618137949513 L -6.665362539811185,-76.33127415800375 L -6.670834996578537,-76.07732848683119 L -6.201556020890967,-60.367229376539925 L -6.21913982165994,-59.40505528207907 L -6.329128309566938,-58.449026668161586 L -6.5305028942281815,-57.50799720276023 L -6.534670941431224,-57.492262617879376 L -6.551560282587987,-57.261881214477064 L -7.032515434241022,-39.27771537822308 L -7.066326342018119,-38.68116442841547 L -7.8510465919108015,-29.631534858329534 L -7.978583371718225,-28.686766822807947 L -8.195506483303834,-27.758436798082375 L -8.499844416041341,-26.854981932666274 L -8.8888311877171,-25.98461329662277 L -9.358931483222275,-25.155241255067885 L -9.9058727853445,-24.374403574637558 L -10.524684205637588,-23.64919691632435 L -10.668161332884617,-23.496440995619828 L -10.427521869579287,-23.22793659616376 L -10.319998302285809,-23.11985644567249 L -9.72392033433548,-22.396200245168743 L -9.198233399983414,-21.619901019705495 L -8.747558220307031,-20.797782340421918 L -8.375856172631353,-19.93707052560989 L -8.086394470527766,-19.045331122298247 L -7.881717445423616,-18.13040240605975 L -7.7636241822536025,-17.200326483568922 L -7.733152705732769,-16.263278603510518 L -7.790570856251696,-15.32749529718672 L -8.674729275021601,-7.186061661364903 L -8.688974035218465,-6.942943540176369 L -8.528862120973292,-6.726357375514437 L -8.001805560408023,-5.937721456570448 L -7.5518414443265485,-5.1026959929332385 L -7.183018258406687,-4.228794002884329 L -6.898654434791087,-3.3238782905098363 L -6.701308494984142,-2.396090701281983 L -6.592756029932614,-1.4537788670069607 L -5.984008252460725,7.58492213329234 L -5.96547466936509,8.542133522948372 L -6.038563503610344,9.496730380526621 L -6.202604825033458,10.439962898549274 L -6.456095035576819,11.363185434749663 L -6.796710651224995,12.257935757781853 L -6.912208973930757,12.522493330871134 L -6.9358878676108455,12.787537841269653 L -8.520652050122086,57.601995655932505 L -8.523030976386933,57.8649088000344 L -8.349401140499905,67.92831000048312 L -8.422831244612052,69.32260230137017 L -10.839194510134902,88.95180153656271 L -11.033334268664966,90.0340956838399 L -11.345126066268994,91.08853237801334 L -11.770800181514593,92.1023629430894 L -12.305209997820489,93.06332965183037 L -16.54935561389633,99.79489188072768 L -16.659070718399768,99.98918577466186 L -16.43620175710966,100.0 L 9.229667039356688,100.0 L 9.458035064711844,99.98896717416179 L 9.430938019224897,99.76194420533159 L 5.2271335774002665,74.83459068349957 L 5.105424375492419,73.76348448263214 L 2.186138065747855,24.5239034944444 L 2.1689455507166393,24.01407571135316 L 2.07768170539733,12.885648506294269 L 2.1261368916760865,11.8170067423267 L 2.288468048846015,10.759655466645455 L 2.5628175514706815,9.725694405878421 L 2.692655541591122,9.387321117866431 L 2.8104686851050067,9.031730998813282 L 2.784762883391589,8.942286395016886 L 2.550141251556539,8.264952238195129 L 2.329157924470781,7.364794000386756 L 2.192468650428829,6.448041838509813 L 2.1412477522495443,5.522571739838947 L 2.1066394863846156,1.646509696274926 L 2.1422805158610885,0.7089964694360734 L 2.265624457507645,-0.2210506291234069 L 2.4755856363051443,-1.1354453124400696 L 2.7703159711580234,-2.026139066318094 L 3.1472212417287366,-2.8852919924586238 L 3.6029839227997655,-3.7053418153491395 L 4.1335923851748175,-4.479070445513358 L 4.734376206092513,-5.199667513231061 L 5.400047278349802,-5.860790313503179 L 6.1247463562920865,-6.456619634625779 L 6.902094628971601,-6.981910978969077 L 7.073744356108951,-7.086522285945881 L 6.919098295399995,-7.256620204343539 L 5.517095711271984,-8.654759878254238 L 4.881483645514953,-9.351419750625862 L 4.3143231743725,-10.104856327838732 L 3.8206582695973594,-10.908369014547608 L 3.4048792791804328,-11.754811869698885 L 3.0706838823320126,-12.636657158076666 L 2.821044204627423,-13.54606229728818 L 2.6581803857745054,-14.474939604803772 L 2.583540835074748,-15.415028224764733 L 2.5627647773715285,-16.062837916873892 L 2.5775913141894726,-17.01497810888599 L 2.682915883801849,-17.96139107713753 L 2.8777834127313504,-18.89349483617277 L 3.1604268602091157,-19.802837155124557 L 3.5282832415373413,-20.681172201763836 L 3.9780168689979902,-21.520535314945377 L 4.505549599561197,-22.313315227419988 L 5.106097815109891,-23.052323084103527 L 5.368590607767336,-23.318908375807837 L 5.548251609015334,-23.52126029884816 L 5.484819831060503,-23.753914678523852 L 3.4566438859935804,-29.96160783427133 L 3.2000202518964667,-30.89919239122253 L 3.0356411505806093,-31.8572633708796 L 2.9650598338572607,-32.826767764237395 L 2.988943239050963,-33.79854452562183 L 3.107065686972094,-34.7634111372877 L 3.318311014405758,-35.71225037691046 L 3.6206831209667403,-36.636096468088176 L 4.011324830661037,-37.526219799799904 L 4.48654488992732,-38.37420941428903 L 4.826517603231487,-38.86266788079823 L 4.925542548377719,-39.0203391672209 L 4.8774510815834065,-39.25019560613262 L 2.916095695118724,-46.79943475858518 L 2.7162034479178967,-47.760370256150026 L 2.6114767834731385,-48.73627305188603 L 2.6029245902336076,-49.71774174775048 L 2.690629256089915,-50.69532132638237 L 2.8737458746871205,-51.65959423638482 L 3.1505103848633933,-52.60127111667761 L 3.518256564802744,-53.51128028592322 L 3.973441717187953,-54.38085513492653 L 4.511680797914805,-55.201618580109965 L 5.127788659587267,-55.96566376447831 L 5.815830002839289,-56.66563022863714 L 6.569176554275138,-57.29477481806852 L 7.380570920202396,-57.84703664357575 L 7.57580542332289,-57.96633723214432 L 7.410738406953794,-58.13272684895465 L 5.409848604924493,-59.95710003870626 L 4.679619336432947,-60.69592472466674 L 4.029975211392944,-61.50651661455172 L 3.4679265181269905,-62.3801286380177 L 2.9995383055429485,-63.30733367653865 L 2.629864935391371,-64.278126291131 L 2.3628955408145824,-65.28203069071574 L 2.2015109797425296,-66.3082137760343 L 2.1474527476499006,-67.34560203926523 L 2.1460060390812883,-81.86054799296949 L 2.1233816515692925,-82.326367577504 L 2.1061190818199673,-82.48534800195237 L 2.08104041491481,-83.22943308706748 L 2.115930606144234,-93.07785375591826 L 2.108287601734999,-93.28202314200827 L 2.083963431113894,-93.48488242440958 L 1.6397179169336908,-96.23249941544393 L 1.532912707371457,-97.17481809128944 L 1.5158522599822533,-98.12301679450076 L 1.6587751014662573,-102.97552943828718 L 1.6603759943183722,-103.04747219031701 L 1.7406906482810385,-108.38272856905736 L 1.7793004052726324,-109.12286856351508 L 1.8667700211949,-109.81201311986935 L 1.8838937824300162,-110.0724217521401 L 2.012914261679784,-117.73493821361896 L 2.0707396159296163,-118.65347927884072 L 2.2127692947635893,-119.56281366751365 L 2.437800219510411,-120.45523875848792 L 2.743926239933254,-121.3231951627577 L 3.128554280493802,-122.159330756132 L 3.5884263052957603,-122.95656295624524 L 3.8632298772471545,-123.3860061229539 L 3.8479530221497584,-123.7095082171301 L 3.819457096081077,-123.99183337661825 L 3.8166216934193127,-124.96832771933359 L 3.9090406069911374,-125.94044293126967 L 4.095832576947769,-126.89890941520275 L 4.375216449877694,-127.83458772125135 L 4.744528162981496,-128.73855569603126 L 5.200246147222455,-129.60219355978126 L 5.7380249072213605,-130.4172661002078 L 6.352736457694719,-131.17600119928912 L 7.038519221319492,-131.8711639442478 L 7.399415180025239,-132.20291549935027 L 7.253176721442903,-132.3861005132012 L 6.5161442391652455,-133.22042909445847 L 5.942445574621331,-133.93307366990987 L 5.618610702905872,-134.37532413951286 L 5.466678527125031,-134.56301467885328 L 5.451162461827058,-134.5787806525346 L 4.772022143414773,-135.34341338716737 L 4.17452929425076,-136.17341163184204 L 3.6649330609208075,-137.06009447815242 L 3.2485632838842697,-137.9941881563966 L 2.9297747529503244,-138.96592302945103 L 2.711901660758203,-139.9651357728965 L 2.5972227306300617,-140.98137567269862 L 2.3833318740799445,-144.4711521495349 L 2.3648166443645966,-145.14844993824477 L 2.3716832329833473,-146.19614214605892 L 2.4347529627742546,-147.25385096223388 L 2.609384754282031,-148.29894878924577 L 2.893617971449558,-149.31970204488042 L 2.930675368805106,-149.42983487964932 L 2.937605261009614,-149.67455825420748 L 2.68489587593697,-161.6674099840401 L 2.6826845094750613,-161.89070556097613 L 2.6970159433009564,-173.2417282984735 L 2.6857120314522476,-173.48201868399008 L 2.654943135515447,-173.69488811679736 L 2.552343472100736,-175.05396548828966 L 2.5302013224914166,-178.1510925082958 L 2.530960700098486,-178.36505255837724 L 2.6489592130139767,-186.646591896111 L 2.6169040818848504,-187.28715985742343 L 2.1821363099190534,-191.07608002545115 L 2.0646790121069003,-191.78835117771897 L 1.9512560520563298,-192.78591480397859 L 1.9384329602303687,-193.78982392567175 L 2.1627552853507623,-199.7772277620397 L 2.1714672697837205,-199.96338023204484 L 2.6310715268967138,-208.14970037913452 L 2.632900075364503,-208.3894368088406 L 2.536192983185002,-208.63154030609965 L 2.3919475554615257,-208.944762063815 L 2.088723250785108,-209.79972336457297 L 1.8642237480903567,-210.67864530537892 L 1.7202964623265657,-211.57429520414124 L 1.658125776604349,-212.47930272376584 L 1.562495853517893,-216.597706291533 L 1.5859252634112995,-217.55220340440326 L 1.7002778891373769,-218.50011540069565 L 1.9045112765214522,-219.4328009850182 L 2.1967636060737394,-220.3417576680327 L 2.351052552286772,-220.75310424300588 L 2.3674927266525168,-220.9924893802398 L 2.6925232134943524,-237.08889727352675 L 2.754684583001259,-238.01832359978897 L 2.9030586285241036,-238.93793355755554 L 3.136357912428789,-239.83974771575987 L 3.452558103053745,-240.71594105701337 L 3.848915539781748,-241.5589108750725 L 4.3219910397098875,-242.361342743318 L 4.867679739347838,-243.11627398183956 L 4.9628958201972955,-243.23584781915443 L 4.938586559508247,-243.47180377403046 L 3.375495726500425,-253.73710439903982 L 3.2741370065697595,-254.7407421463468 L 3.274406373745146,-255.74948504984926 L 3.376301087047702,-256.7530685218765 L 3.5787843042709024,-257.74128047518826 L 3.879795632496158,-258.70406523732635 L 4.2762720938747645,-259.6316258733486 L 4.764179293336291,-260.5145238757469 L 5.33855247107257,-261.34377520714304 L 5.9935470220626925,-262.11094171846804 L 6.722497968571301,-262.80821701238676 L 7.092719135140495,-263.12819674107254 L 7.061343251741518,-263.36361894166976 L 3.6253090022912735,-282.05185980926257 L 3.570368766164906,-282.2854340963818 L 3.2658884152443948,-282.4341833735693 L 2.4894721239091533,-282.85698305376053 L 1.7534319617256982,-283.346704103618 L 1.0635206848412189,-283.89951895241296 L 0.42513051441840055,-284.51110689975013 L -2.7019629173798783,-287.78401173795663 L -2.8688878664569035,-287.9425126164883 L -3.012891004551717,-287.7629309822978 L -6.41374967833176,-283.07129336607807 L -6.539291018642172,-282.88001477786116 L -6.5447372141668225,-282.651282477144 L -6.193299253967149,-267.111274426516 L -6.228576821883765,-266.01613382973557 L -6.432486943250745,-263.67864891208603 L -6.441770627677425,-263.44039328515476 L -6.425660775749655,-263.3771618642778 L -6.252240550223659,-262.5527504721237 L -6.148826954369573,-261.71666773319913 L -6.11615394417564,-260.87484756680976 L -6.173484260251016,-243.7219452781426 L -6.153276194805237,-243.2747428390498 L -6.108975116867862,-242.8201172297497 L -6.102581100864638,-241.92010115702817 L -6.107480188565089,-241.7909436216859 L -5.978512147458824,-228.73455395174088 L -6.011977557969196,-227.8124271083032 L -6.130297662765196,-226.89731061195428 L -6.33246503969151,-225.9969961109072 L -6.468920305461573,-225.49821072779395 L -6.483193190956656,-225.26441910480725 L -6.698168984905907,-205.50233299645822 L -6.688582531609698,-205.25586744542878 L -6.552698572651806,-204.8685278994964 L -6.4534333363525285,-204.62320748563286 L -6.164211419315334,-203.6161677746158 L -5.981944624722395,-202.58439400462123 L -5.908633837887136,-201.53921276416884 L -5.732691443299059,-191.552347599334 L -5.767909541962371,-190.5194398202584 L -5.909548769741445,-189.49568344118057 L -6.156096223096068,-188.49201360114716 L -6.5049184330299905,-187.5191508870887 L -6.952289494194908,-186.58748682307177 L -7.4934308627309285,-185.70697287439899 L -19.39994840657901,-168.40612994474333 L -19.519686994637794,-168.2120214352945 z\" /></g></svg>"
      ],
      "text/plain": [
       "<shapely.geometry.polygon.Polygon at 0x7fe1d74b2df0>"
      ]
     },
     "execution_count": 227,
     "metadata": {},
     "output_type": "execute_result"
    }
   ],
   "source": [
    "A"
   ]
  },
  {
   "cell_type": "code",
   "execution_count": 170,
   "id": "4f410c89",
   "metadata": {},
   "outputs": [],
   "source": [
    "xy = []\n",
    "for x,y in zip(history[k]['annotation'][0],history[k]['annotation'][1]):\n",
    "    dX,dY = CAM.imageToWorld_Z(x*img.shape[1],y*img.shape[0],0)\n",
    "    xy.append([dX,dY])"
   ]
  },
  {
   "cell_type": "code",
   "execution_count": 171,
   "id": "faa3de0c",
   "metadata": {},
   "outputs": [
    {
     "data": {
      "image/svg+xml": [
       "<svg xmlns=\"http://www.w3.org/2000/svg\" xmlns:xlink=\"http://www.w3.org/1999/xlink\" width=\"100.0\" height=\"100.0\" viewBox=\"-15.80771393608762 2.128302028515601 25.318730284359376 88.386840338777\" preserveAspectRatio=\"xMinYMin meet\"><g transform=\"matrix(1,0,0,-1,0,92.64344439580822)\"><path fill-rule=\"evenodd\" fill=\"#66cc99\" stroke=\"#555555\" stroke-width=\"1.7677368067755401\" opacity=\"0.6\" d=\"M -5.948535019182247,10.66399135271758 L -7.0027584524314666,28.639286603687147 L -8.222428280013318,35.51190932345837 L -9.379489708141774,39.68108026178166 L -10.875301816795869,37.022696739031154 L -12.534127256873656,43.08773183426094 L -11.635545384584288,43.58404767095223 L -10.543940452756642,42.600263803915226 L -9.286287295955766,40.304966583412664 L -8.537529935730124,40.17885006386102 L -7.897319245430048,40.081052620779026 L -8.03599746443273,42.86866109479203 L -7.663145233794796,45.97477689193451 L -7.2398273698331375,45.913093807599424 L -6.900584805969827,49.51289589850432 L -7.606721629976908,87.24155568807865 L 1.810604700803198,85.01970525502074 L 1.9398309727687562,77.13029782653014 L 2.372551804842447,61.73844466976084 L 3.1601739454706697,63.20629961685866 L 5.2187038463300155,66.36017893597653 L 6.237429669057791,70.02239475226268 L 5.618485511428684,62.96342587844599 L 4.823688737305852,59.96749085162166 L 3.9179744146973565,55.96384827897923 L 3.2979193789186727,52.441971380406855 L 2.9473886200334625,51.37774092234797 L 2.4650755861831923,43.238420831033956 L 2.5237359152940853,37.832887248846816 L 2.408756898715552,17.64641956793985 L 2.56118717393334,5.943320204595083 L 1.6905782720529756,9.23750249143822 L 1.5485843358062954,9.280037801335762 L -2.3348778618604324,5.401888707729564 L -5.948535019182247,10.66399135271758 z\" /></g></svg>"
      ],
      "text/plain": [
       "<shapely.geometry.polygon.Polygon at 0x7fe1e3f700a0>"
      ]
     },
     "execution_count": 171,
     "metadata": {},
     "output_type": "execute_result"
    }
   ],
   "source": [
    "P = Polygon(xy)\n",
    "P"
   ]
  },
  {
   "cell_type": "code",
   "execution_count": 178,
   "id": "aa103c9e",
   "metadata": {},
   "outputs": [],
   "source": []
  },
  {
   "cell_type": "code",
   "execution_count": 184,
   "id": "96710de9",
   "metadata": {},
   "outputs": [
    {
     "data": {
      "text/plain": [
       "array('d', [-5.948535019182247, -7.0027584524314666, -8.222428280013318, -9.379489708141774, -10.875301816795869, -12.534127256873656, -11.635545384584288, -10.543940452756642, -9.286287295955766, -8.537529935730124, -7.897319245430048, -8.03599746443273, -7.663145233794796, -7.2398273698331375, -6.900584805969827, -7.606721629976908, 1.810604700803198, 1.9398309727687562, 2.372551804842447, 3.1601739454706697, 5.2187038463300155, 6.237429669057791, 5.618485511428684, 4.823688737305852, 3.9179744146973565, 3.2979193789186727, 2.9473886200334625, 2.4650755861831923, 2.5237359152940853, 2.408756898715552, 2.56118717393334, 1.6905782720529756, 1.5485843358062954, -2.3348778618604324, -5.948535019182247])"
      ]
     },
     "execution_count": 184,
     "metadata": {},
     "output_type": "execute_result"
    }
   ],
   "source": [
    "x"
   ]
  },
  {
   "cell_type": "code",
   "execution_count": 126,
   "id": "9930679c",
   "metadata": {},
   "outputs": [],
   "source": [
    "xy=[]\n",
    "for x,y in zip(history[k]['annotation'][0],history[k]['annotation'][1]):\n",
    "    dX,dY = CAM.imageToWorld_Z(x*img.shape[1],y*img.shape[0],0)\n",
    "    xy.append([dX,dY])"
   ]
  },
  {
   "cell_type": "code",
   "execution_count": 127,
   "id": "c98e81a3",
   "metadata": {},
   "outputs": [
    {
     "data": {
      "text/plain": [
       "[[-5.894674963619945, 10.563435643470076],\n",
       " [-5.1427794024156315, 26.870897512540463],\n",
       " [-5.341904909809298, 145.82751537638782],\n",
       " [8.22116577908346, 105.1589908263116],\n",
       " [4.2471826091870355, 10.915155499766414],\n",
       " [2.6855978728035956, 11.584959277138744],\n",
       " [1.5485843358062954, 9.280037801335762],\n",
       " [-2.3348778618604324, 5.401888707729564]]"
      ]
     },
     "execution_count": 127,
     "metadata": {},
     "output_type": "execute_result"
    }
   ],
   "source": []
  },
  {
   "cell_type": "code",
   "execution_count": 119,
   "id": "547f9013",
   "metadata": {},
   "outputs": [
    {
     "data": {
      "text/plain": [
       "[[-6.549985431602384, -282.88335001234617],\n",
       " [-6.18089404089208, -266.56273632622987],\n",
       " [3.5808286407650742, -282.2937839723329],\n",
       " [2.0039591552198543, -281.66080165453536],\n",
       " [0.921335461922656, -283.99176470264325],\n",
       " [-2.8700706592268883, -287.95995807714695]]"
      ]
     },
     "execution_count": 119,
     "metadata": {},
     "output_type": "execute_result"
    }
   ],
   "source": [
    "xy"
   ]
  },
  {
   "cell_type": "code",
   "execution_count": 176,
   "id": "fa24b7ea",
   "metadata": {},
   "outputs": [
    {
     "ename": "AttributeError",
     "evalue": "'MultiPolygon' object has no attribute 'exterior'",
     "output_type": "error",
     "traceback": [
      "\u001b[0;31m---------------------------------------------------------------------------\u001b[0m",
      "\u001b[0;31mAttributeError\u001b[0m                            Traceback (most recent call last)",
      "\u001b[0;32m<ipython-input-176-b3b2063975d0>\u001b[0m in \u001b[0;36m<module>\u001b[0;34m\u001b[0m\n\u001b[0;32m----> 1\u001b[0;31m \u001b[0mx\u001b[0m\u001b[0;34m,\u001b[0m\u001b[0my\u001b[0m \u001b[0;34m=\u001b[0m \u001b[0mpolygon\u001b[0m\u001b[0;34m.\u001b[0m\u001b[0mexterior\u001b[0m\u001b[0;34m.\u001b[0m\u001b[0mxy\u001b[0m\u001b[0;34m\u001b[0m\u001b[0;34m\u001b[0m\u001b[0m\n\u001b[0m\u001b[1;32m      2\u001b[0m \u001b[0mplt\u001b[0m\u001b[0;34m.\u001b[0m\u001b[0mplot\u001b[0m\u001b[0;34m(\u001b[0m\u001b[0mx\u001b[0m\u001b[0;34m,\u001b[0m\u001b[0my\u001b[0m\u001b[0;34m)\u001b[0m\u001b[0;34m\u001b[0m\u001b[0;34m\u001b[0m\u001b[0m\n",
      "\u001b[0;31mAttributeError\u001b[0m: 'MultiPolygon' object has no attribute 'exterior'"
     ]
    }
   ],
   "source": [
    "x,y = \n",
    "plt.plot(x,y)"
   ]
  },
  {
   "cell_type": "code",
   "execution_count": 70,
   "id": "9eb11c1d",
   "metadata": {},
   "outputs": [
    {
     "name": "stderr",
     "output_type": "stream",
     "text": [
      "<ipython-input-70-4d1a36870484>:1: ShapelyDeprecationWarning: __len__ for multi-part geometries is deprecated and will be removed in Shapely 2.0. Check the length of the `geoms` property instead to get the  number of parts of a multi-part geometry.\n",
      "  len(polygon2)\n"
     ]
    },
    {
     "data": {
      "text/plain": [
       "2"
      ]
     },
     "execution_count": 70,
     "metadata": {},
     "output_type": "execute_result"
    }
   ],
   "source": [
    "len(polygon2)"
   ]
  },
  {
   "cell_type": "code",
   "execution_count": 65,
   "id": "4929fbf3",
   "metadata": {},
   "outputs": [
    {
     "data": {
      "image/svg+xml": [
       "<svg xmlns=\"http://www.w3.org/2000/svg\" xmlns:xlink=\"http://www.w3.org/1999/xlink\" width=\"100.0\" height=\"100.0\" viewBox=\"-10.743348140536149 -784.6654769354435 79.99044180733591 73.45209954876452\" preserveAspectRatio=\"xMinYMin meet\"><g transform=\"matrix(1,0,0,-1,0,-1495.8788543221226)\"><g><path fill-rule=\"evenodd\" fill=\"#66cc99\" stroke=\"#555555\" stroke-width=\"1.5998088361467182\" opacity=\"0.6\" d=\"M 65.7211130945353,-767.7770471328275 L 65.75200445587421,-769.8783583223147 L 65.9166060952384,-772.3686898398201 L 65.28440256921502,-772.7348306206129 L 64.12700828369464,-771.5844195112057 L 64.09340675025146,-771.549471105873 L 59.80947625862444,-762.4107441792901 L 61.91453224967425,-763.8351097316919 L 65.7211130945353,-767.7770471328275 z\" /><path fill-rule=\"evenodd\" fill=\"#66cc99\" stroke=\"#555555\" stroke-width=\"1.5998088361467182\" opacity=\"0.6\" d=\"M 29.51849017882266,-750.6915737575163 L 24.561603565905564,-746.6096275133939 L 17.22655571876099,-743.885644467469 L 21.02850012939254,-749.9019655669744 L -7.780739184708892,-735.1588157498037 L 19.07206363366801,-714.1759863425062 L 37.443174909190866,-733.9174832810804 L 34.77480053141599,-724.0670108606251 L 47.571379746402584,-745.1217005004107 L 45.914368091333046,-746.8780431067565 L 43.51818937452451,-746.7483492499581 L 52.132373824766596,-758.1015079364629 L 55.83078511079313,-762.918413414508 L 58.30673628076469,-765.7874722471676 L 59.70621346869389,-766.9864231325798 L 64.09340675025146,-771.549471105873 L 66.28448471097252,-776.2236046374557 L 66.00265703525525,-781.7028679796163 L 61.87384496468265,-780.9476801022636 L 60.123345835608816,-779.0807118379265 L 56.17150748757645,-774.8447542364901 L 29.51849017882266,-750.6915737575163 z\" /></g></g></svg>"
      ],
      "text/plain": [
       "<shapely.geometry.multipolygon.MultiPolygon at 0x7fe1e455d940>"
      ]
     },
     "execution_count": 65,
     "metadata": {},
     "output_type": "execute_result"
    }
   ],
   "source": [
    "([polygon2])"
   ]
  },
  {
   "cell_type": "code",
   "execution_count": 52,
   "id": "2832daf4",
   "metadata": {},
   "outputs": [
    {
     "name": "stderr",
     "output_type": "stream",
     "text": [
      "<ipython-input-52-96ad1c9c1f7f>:1: ShapelyDeprecationWarning: __len__ for multi-part geometries is deprecated and will be removed in Shapely 2.0. Check the length of the `geoms` property instead to get the  number of parts of a multi-part geometry.\n",
      "  mycoordslist = [poly.exterior.coords for poly in list(polygon)]\n",
      "<ipython-input-52-96ad1c9c1f7f>:1: ShapelyDeprecationWarning: Iteration over multi-part geometries is deprecated and will be removed in Shapely 2.0. Use the `geoms` property to access the constituent parts of a multi-part geometry.\n",
      "  mycoordslist = [poly.exterior.coords for poly in list(polygon)]\n"
     ]
    }
   ],
   "source": [
    "mycoordslist = [poly.exterior.coords for poly in list(polygon)]"
   ]
  },
  {
   "cell_type": "code",
   "execution_count": 190,
   "id": "c46568d6",
   "metadata": {},
   "outputs": [
    {
     "data": {
      "image/svg+xml": [
       "<svg xmlns=\"http://www.w3.org/2000/svg\" xmlns:xlink=\"http://www.w3.org/1999/xlink\" width=\"100.0\" height=\"100.0\" viewBox=\"-9.71270950367456 -19.393419824754673 15.046870042363718 71.07568766953946\" preserveAspectRatio=\"xMinYMin meet\"><g transform=\"matrix(1,0,0,-1,0,32.28884802003011)\"><path fill-rule=\"evenodd\" fill=\"#66cc99\" stroke=\"#555555\" stroke-width=\"1.4215137533907893\" opacity=\"0.6\" d=\"M -7.0802766270249515,-8.21612730300757 L -5.970331281058718,13.757945945306645 L -5.6773890941543685,49.04983496813517 L 2.70172766203955,42.297391159232745 L 2.088502352580007,8.133137631750206 L 1.9677140402338373,-10.990317224097794 L 1.9132085239104686,-16.760986948105064 L 1.624313672325235,-15.478831658634762 L -2.336619257656945,-15.565517191632878 L -7.0802766270249515,-8.21612730300757 z\" /></g></svg>"
      ],
      "text/plain": [
       "<shapely.geometry.polygon.Polygon at 0x7f56c4d4af40>"
      ]
     },
     "execution_count": 190,
     "metadata": {},
     "output_type": "execute_result"
    }
   ],
   "source": [
    "xy = []\n",
    "for x,y in zip(history[277]['annotation'][0],history[277]['annotation'][1]):\n",
    "    dX,dY = CAM.imageToWorld_Z(x*img.shape[1],y*img.shape[0],0)\n",
    "    if(dY>0 and dY<100):\n",
    "        xy.append([dX,dY])\n",
    "\n",
    "data3 = rotation2d(np.vstack(xy),0,history[277]['absolute_angle'],0,order=0)\n",
    "data3[:,1]+=history[277]['Dx']\n",
    "data3[:,0]+=history[277]['Dy']\n",
    "\n",
    "xy = []\n",
    "for x,y in zip(data3[:,0],data3[:,1]):\n",
    "    xy.append([x,y])\n",
    "    \n",
    "polygon2 = Polygon(xy)\n",
    "\n",
    "polygon2"
   ]
  },
  {
   "cell_type": "code",
   "execution_count": 194,
   "id": "14d12c9d",
   "metadata": {},
   "outputs": [
    {
     "data": {
      "text/plain": [
       "[<matplotlib.lines.Line2D at 0x7f56be695df0>]"
      ]
     },
     "execution_count": 194,
     "metadata": {},
     "output_type": "execute_result"
    },
    {
     "data": {
      "image/png": "[encoded data removed]",
      "text/plain": [
       "<Figure size 432x288 with 1 Axes>"
      ]
     },
     "metadata": {
      "needs_background": "light"
     },
     "output_type": "display_data"
    }
   ],
   "source": [
    "x,y = polygon1.exterior.xy\n",
    "plt.plot(x,y)\n",
    "\n",
    "x,y = polygon2.exterior.xy\n",
    "plt.plot(x,y,'r')"
   ]
  },
  {
   "cell_type": "code",
   "execution_count": 195,
   "id": "f8d836a3",
   "metadata": {},
   "outputs": [
    {
     "data": {
      "image/svg+xml": [
       "<svg xmlns=\"http://www.w3.org/2000/svg\" xmlns:xlink=\"http://www.w3.org/1999/xlink\" width=\"100.0\" height=\"116.56708517267731\" viewBox=\"-15.429739758074529 -21.078286398944964 24.884409879958863 116.56708517267731\" preserveAspectRatio=\"xMinYMin meet\"><g transform=\"matrix(1,0,0,-1,0,74.41051237478737)\"><path fill-rule=\"evenodd\" fill=\"#66cc99\" stroke=\"#555555\" stroke-width=\"2.0\" opacity=\"0.6\" d=\"M -6.926386937405608,12.518867561753375 L -8.525299614540637,57.733420937923704 L -8.337328532808549,68.62802554253294 L -11.112440307234628,91.17149932289244 L 5.137370671044434,74.3023224177313 L 2.4680567494288868,29.279023884951798 L 2.088502352580007,8.133137631750206 L 1.9677140402338373,-10.990317224097794 L 1.9132085239104686,-16.760986948105064 L 1.624313672325235,-15.478831658634762 L -2.336619257656945,-15.565517191632878 L -7.0802766270249515,-8.21612730300757 L -6.097801627035725,11.234359779856005 L -6.926386937405608,12.518867561753375 z\" /></g></svg>"
      ],
      "text/plain": [
       "<shapely.geometry.polygon.Polygon at 0x7f56be4e1a60>"
      ]
     },
     "execution_count": 195,
     "metadata": {},
     "output_type": "execute_result"
    }
   ],
   "source": [
    "polygon1.union(polygon2)"
   ]
  },
  {
   "cell_type": "code",
   "execution_count": null,
   "id": "0e6db67f",
   "metadata": {},
   "outputs": [],
   "source": []
  },
  {
   "cell_type": "code",
   "execution_count": null,
   "id": "404df5dc",
   "metadata": {},
   "outputs": [],
   "source": []
  },
  {
   "cell_type": "code",
   "execution_count": 96,
   "id": "f9374ded",
   "metadata": {},
   "outputs": [
    {
     "data": {
      "image/png": "[encoded data removed]",
      "text/plain": [
       "<Figure size 432x288 with 1 Axes>"
      ]
     },
     "metadata": {
      "needs_background": "light"
     },
     "output_type": "display_data"
    }
   ],
   "source": [
    "plt.plot(-datas['scala']['data'][:,1],datas['scala']['data'][:,0],'.')\n",
    "\n",
    "xy = []\n",
    "for x,y in zip(pts[0],pts[1]):\n",
    "    \n",
    "    dX,dY = CAM.imageToWorld_Z(x*img.shape[1],y*img.shape[0],0)\n",
    "    \n",
    "    if(dY<100 and dY>0):\n",
    "        plt.plot(dX,dY,'go')\n",
    "        xy.append([dX,dY])\n",
    "    \n"
   ]
  },
  {
   "cell_type": "code",
   "execution_count": 57,
   "id": "c2573ae8",
   "metadata": {},
   "outputs": [
    {
     "data": {
      "text/plain": [
       "[<matplotlib.lines.Line2D at 0x7f56c8a42be0>]"
      ]
     },
     "execution_count": 57,
     "metadata": {},
     "output_type": "execute_result"
    },
    {
     "data": {
      "image/png": "[encoded data removed]",
      "text/plain": [
       "<Figure size 432x288 with 1 Axes>"
      ]
     },
     "metadata": {
      "needs_background": "light"
     },
     "output_type": "display_data"
    }
   ],
   "source": [
    "\n",
    "import matplotlib.pyplot as plt\n",
    "\n",
    "polygon1 = Polygon(xy)\n",
    "\n",
    "x,y = polygon1.exterior.xy\n",
    "plt.plot(x,y)"
   ]
  },
  {
   "cell_type": "code",
   "execution_count": null,
   "id": "abeb2526",
   "metadata": {},
   "outputs": [],
   "source": []
  }
 ],
 "metadata": {
  "kernelspec": {
   "display_name": "Python 3",
   "language": "python",
   "name": "python3"
  },
  "language_info": {
   "codemirror_mode": {
    "name": "ipython",
    "version": 3
   },
   "file_extension": ".py",
   "mimetype": "text/x-python",
   "name": "python",
   "nbconvert_exporter": "python",
   "pygments_lexer": "ipython3",
   "version": "3.8.8"
  }
 },
 "nbformat": 4,
 "nbformat_minor": 5
}
